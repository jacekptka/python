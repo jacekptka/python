{
 "cells": [
  {
   "cell_type": "markdown",
   "metadata": {},
   "source": [
    "# Współbieżność (i równoległość)\n",
    "\n",
    "    Concurrency is about dealing with lots of things at once.\n",
    "    Parallelism is about doing lots of things at once.\n",
    "    \n",
    "    Rob Pike"
   ]
  },
  {
   "cell_type": "code",
   "execution_count": 6,
   "metadata": {},
   "outputs": [
    {
     "name": "stdout",
     "output_type": "stream",
     "text": [
      "S  Sat Nov 24 14:07:02 2018\n",
      "1  Sat Nov 24 14:07:03 2018\n",
      "1  Sat Nov 24 14:07:04 20182  Sat Nov 24 14:07:04 2018\n",
      "\n",
      "1  Sat Nov 24 14:07:05 2018\n",
      "1  Sat Nov 24 14:07:06 20182  Sat Nov 24 14:07:06 2018\n",
      "\n",
      "1  Sat Nov 24 14:07:07 2018\n",
      "E  Sat Nov 24 14:07:07 2018\n",
      "2  Sat Nov 24 14:07:08 2018\n",
      "2  Sat Nov 24 14:07:10 2018\n",
      "2  Sat Nov 24 14:07:12 2018\n"
     ]
    }
   ],
   "source": [
    "import threading, time\n",
    "\n",
    "def thread_func(threadName, delay):\n",
    "   count = 0\n",
    "   while count < 5:\n",
    "      time.sleep(delay)\n",
    "      count += 1\n",
    "      print(threadName + \"  \" + time.ctime(time.time()))\n",
    "    \n",
    "t1 = threading.Thread(name='1', target=thread_func, args=['1', 1])\n",
    "t2 = threading.Thread(name='2', target=thread_func, args=['2', 2])\n",
    "print(\"S\" + \"  \" + time.ctime(time.time()))\n",
    "t1.start()\n",
    "t2.start()\n",
    "t1.join()\n",
    "t2.join()\n",
    "print(\"E\" + \"  \" + time.ctime(time.time()))\n"
   ]
  },
  {
   "cell_type": "code",
   "execution_count": 10,
   "metadata": {},
   "outputs": [
    {
     "name": "stdout",
     "output_type": "stream",
     "text": [
      "22\n"
     ]
    }
   ],
   "source": [
    "import random\n",
    "mylist = [random.randint(0, 100000000) for k in range(10000000)]\n",
    "\n",
    "def find_min(l, lo, hi):\n",
    "    if hi - lo < 10000:\n",
    "        min = l[lo]\n",
    "        for i in range(lo, hi):\n",
    "            if l[i] < min:\n",
    "                min = l[i]\n",
    "        return min;\n",
    "    min_a = find_min(l, lo, int(lo + (hi-lo)/2))\n",
    "    min_b = find_min(l, int(lo + (hi-lo)/2), hi)\n",
    "    return min_a if min_a < min_b else min_b\n",
    "\n",
    "print(find_min(mylist, 0, 100000))"
   ]
  },
  {
   "cell_type": "markdown",
   "metadata": {},
   "source": [
    "Dostęp do współdzielonych danych powinien być synchronizowany, choć niektóre z implementacji Pythona będą działać \"poprawnie\"."
   ]
  },
  {
   "cell_type": "code",
   "execution_count": 47,
   "metadata": {},
   "outputs": [
    {
     "name": "stdout",
     "output_type": "stream",
     "text": [
      "15\n",
      "15\n"
     ]
    }
   ],
   "source": [
    "import threading, time\n",
    "\n",
    "a = 0\n",
    "b = 0\n",
    "\n",
    "def thread1():\n",
    "    global a, b\n",
    "    a += 5\n",
    "    b += 5\n",
    "\n",
    "def thread2():\n",
    "    global a, b\n",
    "    a += 10\n",
    "    b += 10\n",
    "\n",
    "t = threading.Thread(target = thread2)\n",
    "t.start()\n",
    "t = threading.Thread(target = thread1)\n",
    "t.start()\n",
    "print(a)\n",
    "print(b)\n"
   ]
  },
  {
   "cell_type": "markdown",
   "metadata": {},
   "source": [
    "Ręczna synchronizacja jest trudna i często prowadzi do problemów ze współdzieleniem danych takich jak np. zakleszczenia."
   ]
  },
  {
   "cell_type": "code",
   "execution_count": 95,
   "metadata": {},
   "outputs": [
    {
     "name": "stdout",
     "output_type": "stream",
     "text": [
      "Thread2 acquiring lock b\n",
      "Thread2 acquiring lock b - got it!Thread1 acquiring lock a\n",
      "\n",
      "Thread2 acquiring lock aThread1 acquiring lock a - got it!\n",
      "\n",
      "Thread2 acquiring lock a - got it!Thread1 acquiring lock b\n",
      "\n",
      "Thread2 releasing both locksThread1 acquiring lock b - got it!\n",
      "\n",
      "Thread1 releasing both locks\n"
     ]
    }
   ],
   "source": [
    "import threading, time\n",
    "\n",
    "alock = threading.Lock()\n",
    "block = threading.Lock()\n",
    "a = 0\n",
    "b = 0\n",
    "\n",
    "def thread1():\n",
    "    global a, b\n",
    "    print('Thread1 acquiring lock a')\n",
    "    alock.acquire()\n",
    "    print('Thread1 acquiring lock a - got it!')\n",
    "\n",
    "    print('Thread1 acquiring lock b')\n",
    "    block.acquire()\n",
    "    print('Thread1 acquiring lock b - got it!')\n",
    "    a += 5\n",
    "    b += 5\n",
    "\n",
    "    print('Thread1 releasing both locks')\n",
    "    block.release()\n",
    "    alock.release()\n",
    "\n",
    "def thread2():\n",
    "    global a, b\n",
    "    print('Thread2 acquiring lock b')\n",
    "    block.acquire()\n",
    "    print('Thread2 acquiring lock b - got it!')\n",
    "\n",
    "    print('Thread2 acquiring lock a')\n",
    "    alock.acquire()\n",
    "    print('Thread2 acquiring lock a - got it!')\n",
    "    a += 10\n",
    "    b += 10\n",
    "\n",
    "    print('Thread2 releasing both locks')\n",
    "    block.release()\n",
    "    alock.release()\n",
    "\n",
    "\n",
    "t = threading.Thread(target = thread2)\n",
    "t.start()\n",
    "t = threading.Thread(target = thread1)\n",
    "t.start()\n"
   ]
  },
  {
   "cell_type": "markdown",
   "metadata": {},
   "source": [
    "Z punktu widzenia programisty aplikacja ma do wykonania pewne zadania, nie interesuje go ich zrównoleglanie."
   ]
  },
  {
   "cell_type": "code",
   "execution_count": 97,
   "metadata": {},
   "outputs": [
    {
     "name": "stdout",
     "output_type": "stream",
     "text": [
      "S 1  Sat Nov 24 14:26:31 2018\n",
      "E 1  Sat Nov 24 14:26:36 2018\n",
      "1\n",
      "S 2  Sat Nov 24 14:26:36 2018\n",
      "E 2  Sat Nov 24 14:26:41 2018\n",
      "2\n"
     ]
    }
   ],
   "source": [
    "def task(taskName, delay):\n",
    "    print(\"S \" + taskName + \"  \" + time.ctime(time.time()))\n",
    "    time.sleep(delay)\n",
    "    print(\"E \" + taskName + \"  \" + time.ctime(time.time()))\n",
    "    return taskName\n",
    "\n",
    "print(task('1', 5))\n",
    "print(task('2', 5))"
   ]
  },
  {
   "cell_type": "markdown",
   "metadata": {},
   "source": [
    "Python pozwala na tworzenie pul wątków. Wtedy automatycznie zarządza wątkami przetwarzając przekazane zadania."
   ]
  },
  {
   "cell_type": "code",
   "execution_count": 99,
   "metadata": {},
   "outputs": [
    {
     "name": "stdout",
     "output_type": "stream",
     "text": [
      "S 1  Sat Nov 24 14:28:27 2018False\n",
      "\n",
      "False\n",
      "E 1  Sat Nov 24 14:28:32 20181\n",
      "\n"
     ]
    }
   ],
   "source": [
    "from concurrent.futures import ThreadPoolExecutor, wait\n",
    "\n",
    "pool = ThreadPoolExecutor(2)\n",
    "\n",
    "future = pool.submit(task, *('1', 5))\n",
    "print(future.done())\n",
    "time.sleep(1)\n",
    "print(future.done())\n",
    "print(future.result())"
   ]
  },
  {
   "cell_type": "markdown",
   "metadata": {},
   "source": [
    "Metoda `wait(lista zadań)` czeka aż wszystkie zadania zostaną zrealizowane."
   ]
  },
  {
   "cell_type": "code",
   "execution_count": null,
   "metadata": {
    "collapsed": true
   },
   "outputs": [],
   "source": [
    "pool = ThreadPoolExecutor()\n",
    "\n",
    "future1 = pool.submit(task, *('1', 5))\n",
    "future2 = pool.submit(task, *('2', 5))\n",
    "tasks = [future1, future2]\n",
    "wait(tasks)\n",
    "print(future1.result())\n",
    "print(future2.result())"
   ]
  },
  {
   "cell_type": "markdown",
   "metadata": {},
   "source": [
    "Zysk z współbieżności w Python zależy od implementacji. Niektóre z nich mają zaimplementowany tzw. GIL (Global Intepreter Lock), który blokuje równoległe wykonanie wątków (poza operacjami typu oczekiwanie na dane), ale dzięki temu zabezpiecza przed błędami synchronizacji. Najlepiej korzystać z dedykowanych bibliotek w przypadku obliczeń.\n",
    "\n",
    "### Zadanie\n",
    "Utwórz listę wyników w poniższej implementacji. Wyniki można pobrać za pomocą metody `result()` z każdego zadania.\n",
    "\n",
    "Sprawdź poniższą implementację używając `%%time` dla różnych wielkości `size`. Sprawdź również wykonanie jednowątkowe."
   ]
  },
  {
   "cell_type": "code",
   "execution_count": 105,
   "metadata": {},
   "outputs": [
    {
     "name": "stdout",
     "output_type": "stream",
     "text": [
      "[48339, 318, 3338, 48628, 1721, 6691, 7377, 63194, 5278, 10974, 5581, 1901, 15190, 5662, 4579, 2838, 23431, 8544, 8670, 26490, 13233, 7601, 2301, 10220, 11109, 11537, 21276, 5492, 16937, 6532, 4136, 23446, 8203, 22060, 8861, 20254, 2176, 5266, 13539, 1414, 4583, 54, 5291, 13633, 14611, 6247, 10348, 148, 4495, 557, 4859, 2923, 1797, 1366, 14582, 5725, 1977, 15654, 837, 24717, 3154, 18073, 4185, 2592, 1797, 8273, 363, 7284, 14726, 3967, 5681, 3765, 33204, 3023, 5345, 88, 1924, 32000, 5816, 5911, 12834, 6716, 3966, 17028, 3264, 32599, 20515, 20702, 16564, 9931, 916, 5779, 25750, 51327, 9607, 8543, 4447, 8123, 16751, 29539, 13341, 2434, 9844, 29085, 4901, 23244, 983, 13928, 9864, 18118, 15314, 1129, 16419, 643, 5873, 15468, 15330, 28246, 6530, 9152, 19891, 15261, 4660, 1073, 29794, 18802, 7864, 10466, 10694, 37059, 17972, 1208, 17405, 15436, 2917, 20501, 3418, 5037, 8891, 582, 29549, 10966, 5873, 20014, 11359, 503, 36991, 15106, 6065, 2966, 79, 2230, 9575, 14379, 6515, 24710, 7920, 2174, 6089, 5080, 15386, 23936, 1748, 6340, 3710, 4255, 41893, 6191, 5482, 2348, 18215, 9719, 27099, 9311, 2557, 4053, 12571, 719, 11567, 3962, 8688, 223, 1661, 15375, 4113, 4050, 6724, 15408, 6256, 7339, 9003, 11152, 48127, 16150, 8229, 4337, 3335, 6062, 6272, 9438, 201, 10889, 3023, 36916, 7795, 2942, 9356, 5017, 1275, 27080, 11160, 9722, 654, 2658, 11361, 1740, 1446, 17799, 3956, 5175, 1390, 6335, 4896, 21159, 7167, 15350, 42581, 19531, 2612, 16261, 31582, 281, 9501, 3689, 6750, 1535, 2657, 31959, 3136, 523, 1857, 118, 22067, 5373, 512, 5302, 12893, 5298, 15027, 5641, 17732, 3221, 18897, 4967, 14438, 1625, 22143, 4844, 35125, 17971, 11236, 9732, 1873, 2271, 10191, 8034, 5792, 1324, 14705, 3879, 17471, 16887, 9473, 1447, 11318, 19248, 337, 2837, 24568, 966, 15169, 4720, 2447, 6914, 5478, 5404, 23899, 4690, 35493, 3591, 1584, 22609, 23151, 3501, 3404, 24955, 35059, 480, 7750, 13131, 8272, 7053, 7570, 4775, 17574, 2756, 20723, 20532, 8460, 5150, 20841, 41096, 3080, 13736, 10672, 17153, 1543, 14620, 2717, 12232, 8398, 17567, 974, 2819, 2543, 87, 13635, 4413, 3419, 789, 10104, 605, 12451, 11098, 8033, 4273, 21947, 20619, 10096, 17722, 15331, 5076, 3405, 3579, 8239, 17966, 667, 17792, 5648, 24278, 1347, 22267, 13816, 20663, 2076, 10872, 20799, 3521, 4453, 357, 4414, 1846, 10762, 5537, 14072, 280, 9084, 25736, 714, 4712, 7241, 6398, 6138, 14053, 1579, 2388, 15965, 22980, 8339, 37656, 63, 399, 2948, 5549, 16854, 7268, 14272, 2101, 29124, 1493, 2284, 30494, 48964, 99, 43376, 8709, 5209, 28407, 478, 4789, 14170, 2951, 16425, 1673, 7907, 5256, 18406, 45224, 1253, 2940, 961, 988, 5475, 3298, 18879, 33355, 22046, 5167, 875, 18838, 8615, 2703, 9524, 3730, 6225, 3018, 15481, 13004, 11437, 11497, 20616, 2498, 7211, 18235, 1655, 965, 19151, 11903, 29594, 1764, 11482, 2091, 47062, 13022, 19032, 16210, 6673, 79304, 5615, 1146, 43726, 9370, 3668, 2420, 6779, 28469, 15238, 12833, 17938, 15713, 24295, 3226, 6703, 7417, 1693, 9294, 10739, 3790, 6159, 4759, 6090, 14902, 1677, 3437, 39019, 3014, 13149, 7746, 8720, 12632, 3153, 39547, 6807, 393, 10431, 8224, 17329, 17, 9742, 4311, 56, 6543, 4541, 1851, 6011, 248, 6962, 2918, 13508, 9352, 274, 964, 9361, 9891, 3667, 17913, 8674, 3185, 9287, 13596, 5506, 2751, 4898, 6608, 2786, 86, 11720, 13503, 9559, 2026, 13477, 6010, 4981, 133, 314, 33588, 294, 4940, 7016, 11825, 4660, 22318, 12048, 9046, 16797, 14789, 45, 14590, 9526, 4649, 9284, 5424, 23309, 741, 676, 7004, 1386, 2806, 11456, 2248, 31417, 756, 20047, 25412, 13789, 10005, 3854, 4493, 8341, 2400, 21851, 10728, 1756, 5292, 1740, 8612, 5846, 3086, 8775, 284, 6153, 12697, 9262, 5445, 328, 1105, 15491, 35, 8432, 10275, 1093, 12983, 11871, 21148, 11110, 17701, 14732, 4108, 39166, 52000, 4381, 9645, 2504, 14943, 558, 1482, 15937, 801, 5859, 5329, 9569, 15789, 10925, 1456, 13889, 10527, 4062, 9767, 5317, 42284, 7589, 21389, 2453, 3738, 2829, 26466, 6933, 49099, 26695, 6621, 3236, 14946, 7116, 5587, 4252, 3515, 1257, 15183, 12316, 17681, 9599, 8455, 55752, 166, 30308, 2167, 15313, 5014, 4164, 6045, 2904, 3366, 390, 1215, 4067, 4978, 19120, 1774, 11815, 3564, 5007, 2164, 14025, 617, 4252, 7349, 61, 16739, 6304, 1369, 425, 5400, 10154, 15535, 493, 25901, 3480, 5742, 11318, 1682, 5400, 3551, 8323, 7569, 9708, 1253, 6139, 5355, 3142, 8348, 858, 2381, 21275, 1265, 7658, 1196, 4780, 18822, 12349, 3993, 33392, 1413, 4615, 4517, 7517, 4694, 21617, 29811, 14456, 569, 4524, 31368, 7405, 23607, 14543, 1833, 5519, 5506, 9961, 3633, 5816, 33446, 5123, 10036, 18319, 4887, 18520, 3545, 33325, 3788, 30458, 7795, 32616, 15039, 61115, 5661, 7780, 539, 10347, 3163, 18119, 9542, 1097, 17906, 4127, 8492, 777, 17653, 9143, 23695, 7978, 9986, 8261, 5830, 8670, 1776, 26451, 3763, 5369, 10845, 10258, 16674, 11764, 1075, 30511, 11654, 1158, 21073, 3481, 6070, 12877, 77, 345, 3658, 8878, 10013, 4829, 6024, 17462, 11272, 145, 12450, 12814, 7229, 234, 10426, 2227, 16612, 5147, 8321, 10455, 19126, 1042, 34848, 4404, 13284, 13277, 5052, 7901, 2916, 11507, 1156, 28510, 4257, 18005, 1506, 49, 2691, 2744, 6071, 20894, 4086, 2943, 5351, 8007, 1815, 139, 8721, 212, 36603, 23006, 12265, 3255, 470, 31360, 19060, 3669, 8919, 2146, 4730, 8020, 9372, 12021, 17967, 2133, 13551, 2542, 22068, 5360, 4762, 6076, 7840, 8556, 262, 5671, 10570, 28853, 3956, 11860, 19473, 2285, 6784, 9049, 7356, 3897, 10401, 36745, 17035, 9538, 12825, 11265, 4838, 19145, 11064, 3186, 2410, 4344, 17993, 3071, 10788, 16093, 597, 3800, 1297, 1748, 16932, 25053, 19798, 17563, 56425, 926, 19814, 33496, 5470, 8807, 5020, 36168, 15646, 4508, 114, 21766, 7105, 383, 17809, 8611, 4505, 1453, 7190, 3056, 16241, 288, 5275, 1584, 8524, 3161, 20423, 10785, 3098, 2890, 17385, 21615, 1600, 11739, 981, 606, 5005, 33627, 1436, 3692, 4238, 16308, 217, 34532, 12915, 1879, 31688, 6365, 2062, 1067, 8993, 18842, 43888, 5332, 960, 1497, 7811, 28137, 7671, 2761, 14811, 1091, 26027, 742, 13752, 5594, 6699, 11942, 4115, 1728, 6096, 112, 17449, 16658, 4716, 1210, 15470, 4695, 4233, 22103, 3530, 250, 18674, 3723, 15800, 2423, 6170, 4626, 5338, 25524, 6768, 1036, 1988, 41723, 3041, 3951, 2244, 3864, 4553, 12869, 4847, 4577, 1275, 2992, 56, 7770, 4654, 34817, 24427, 2313, 2902, 9073, 4269, 537, 1299, 20546, 20126, 3547, 16479, 3315, 3893, 3358, 157, 19454, 9743, 7852, 4863, 17627, 2853, 33710, 347]\n",
      "17\n",
      "CPU times: user 20 s, sys: 405 ms, total: 20.4 s\n",
      "Wall time: 20.3 s\n"
     ]
    }
   ],
   "source": [
    "%%time\n",
    "\n",
    "import random\n",
    "mylist = [random.randint(0, 100000000) for k in range(10000000)]\n",
    "\n",
    "def find_min(l, lo, hi):\n",
    "    min = l[lo]\n",
    "    for i in range(lo, hi):\n",
    "        if l[i] < min:\n",
    "            min = l[i]\n",
    "    return min;\n",
    "\n",
    "pool = ThreadPoolExecutor()\n",
    "size = 10000\n",
    "\n",
    "lo = 0\n",
    "hi = size\n",
    "tasks = []\n",
    "\n",
    "while lo < len(mylist):\n",
    "    tasks.append(pool.submit(find_min, *(mylist, lo, hi)))\n",
    "    lo += size\n",
    "    hi += size\n",
    "    if (hi > len(mylist)):\n",
    "        hi = len(mylist)\n",
    "\n",
    "wait(tasks)\n",
    "solutions = list(map(lambda x: x.result(), tasks))\n",
    "print(solutions)\n",
    "print(find_min(solutions, 0, len(solutions)))\n"
   ]
  }
 ],
 "metadata": {
  "kernelspec": {
   "display_name": "Python 3",
   "language": "python",
   "name": "python3"
  },
  "language_info": {
   "codemirror_mode": {
    "name": "ipython",
    "version": 3
   },
   "file_extension": ".py",
   "mimetype": "text/x-python",
   "name": "python",
   "nbconvert_exporter": "python",
   "pygments_lexer": "ipython3",
   "version": "3.6.3"
  }
 },
 "nbformat": 4,
 "nbformat_minor": 2
}
