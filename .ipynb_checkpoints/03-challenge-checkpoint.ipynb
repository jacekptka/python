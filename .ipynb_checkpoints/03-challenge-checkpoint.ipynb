{
 "cells": [
  {
   "cell_type": "markdown",
   "metadata": {},
   "source": [
    "## Zadanie\n",
    "\n",
    "1. Pobierz *Alice's Adventures in Wonderland* Lewis Carroll z [tego adresu](http://www.gutenberg.org/files/11/11.txt)\n",
    "1. Przeczytaj plik używając Pythona; zobacz [dokumentację](https://docs.python.org/3.6/tutorial/inputoutput.html)\n",
    "1. Zlicz wystąpienia liter w utworze (★ wykluczając nagłówek i stopkę w pliku)"
   ]
  },
  {
   "cell_type": "code",
   "execution_count": 62,
   "metadata": {},
   "outputs": [
    {
     "name": "stdout",
     "output_type": "stream",
     "text": [
      "Dictionary: {'P': 1968, 'R': 6612, 'O': 9480, 'J': 235, 'E': 15396, 'C': 3003, 'T': 12204, 'G': 2944, 'U': 3979, 'N': 8053, 'B': 1746, 'S': 7269, 'A': 9804, 'L': 5211, 'I': 8634, 'D': 5469, 'V': 963, 'W': 2952, 'Y': 2584, 'H': 7890, 'K': 1290, 'F': 2383, 'M': 2466, 'Q': 220, 'X': 176, 'Z': 80}\n",
      "Ilosc slow w utworze:  30537\n",
      "Ilosc slow unikalnych:  26\n"
     ]
    }
   ],
   "source": [
    "from collections import Counter\n",
    "import string\n",
    "import re\n",
    "\n",
    "#h = open('/home/users/jpieczat/python/files/alice.txt', 'r')\n",
    "#alicja = h.read()\n",
    "#alicja_clear = \n",
    "#h.closed\n",
    "#print(\"Znakow w tekscie\",len(alicja),\"\\n\")\n",
    "\n",
    "\n",
    "#letter = string.printable\n",
    "\n",
    "#for l in string.printable:\n",
    "#    print(l,alicja.count(l))\n",
    "\n",
    "\n",
    "d = dict()\n",
    "with open(\"/home/users/jpieczat/python/files/alice.txt\") as file:\n",
    "    for line in file:\n",
    "        for char in line:\n",
    "            if not char.isalpha():\n",
    "                continue\n",
    "            char = char.upper()\n",
    "            if char in d:\n",
    "                d[char]+=1\n",
    "            else:\n",
    "                d[char]=1\n",
    "file.closed\n",
    "print(\"Dictionary:\",d)\n",
    "\n",
    "l=re.findall('\\w+', alicja.lower())\n",
    "print(\"Ilosc slow w utworze: \", len(l))\n",
    "print(\"Ilosc slow unikalnych: \",len(d))\n",
    "\n",
    "\n",
    "\n",
    "    \n",
    "#print(\"Wystąpienia liter:\")\n",
    "#for letter, count in Counter(alicja).items():\n",
    "#    print(\"letter\", letter, \"count\", count)\n",
    "\n",
    "\n",
    "#print(\"Wystąpienia liter wykluczając nagłówek i stopkę w pliku:\")\n",
    "\n",
    "\n",
    "\n",
    "#c = Counter(alicja)\n",
    "#print(c)\n",
    "\n",
    "\n",
    "#with open('/home/users/jpieczat/python/files/alice.txt') as f:\n",
    "#     read_data = f.read()\n",
    "#f.closed\n",
    "#print(read_data[1:100])\n",
    "\n",
    "\n",
    "#print(count)\n",
    "\n",
    "\n"
   ]
  },
  {
   "cell_type": "code",
   "execution_count": 66,
   "metadata": {},
   "outputs": [
    {
     "name": "stdout",
     "output_type": "stream",
     "text": [
      "Ilosc slow w utworze:  30537\n",
      "Ilosc slow unikalnych:  3044\n"
     ]
    }
   ],
   "source": [
    "from collections import Counter\n",
    "import string\n",
    "import re\n",
    "\n",
    "#h = open('/home/users/jpieczat/python/files/alice.txt', 'r')\n",
    "#alicja = h.read()\n",
    "#alicja_clear = \n",
    "#h.closed\n",
    "#print(\"Znakow w tekscie\",len(alicja),\"\\n\")\n",
    "\n",
    "\n",
    "#letter = string.printable\n",
    "\n",
    "#for l in string.printable:\n",
    "#    print(l,alicja.count(l))\n",
    "\n",
    "\n",
    "d = dict()\n",
    "with open(\"/home/users/jpieczat/python/files/alice.txt\") as file:\n",
    "    for line in file:\n",
    "        words=re.findall('\\w+', line.lower())\n",
    "        for word in words:\n",
    "            if word in d:\n",
    "                d[word]+=1\n",
    "            else:\n",
    "                d[word]=1\n",
    "file.closed\n",
    "#print(\"Dictionary:\",d)\n",
    "\n",
    "l=re.findall('\\w+', alicja.lower())\n",
    "print(\"Ilosc slow w utworze: \",len(l))\n",
    "print(\"Ilosc slow unikalnych: \",len(d))"
   ]
  },
  {
   "cell_type": "markdown",
   "metadata": {},
   "source": [
    "1. Ile słów występuje w utworze\n",
    "1. Zlicz wystąpienia unikalnych słów (skorzystaj z pakietu `re` i metody `findall`)"
   ]
  },
  {
   "cell_type": "code",
   "execution_count": 63,
   "metadata": {},
   "outputs": [
    {
     "ename": "IndentationError",
     "evalue": "expected an indented block (<ipython-input-63-b527c2dcd8ac>, line 8)",
     "output_type": "error",
     "traceback": [
      "\u001b[0;36m  File \u001b[0;32m\"<ipython-input-63-b527c2dcd8ac>\"\u001b[0;36m, line \u001b[0;32m8\u001b[0m\n\u001b[0;31m    string_dict = {}\u001b[0m\n\u001b[0m              ^\u001b[0m\n\u001b[0;31mIndentationError\u001b[0m\u001b[0;31m:\u001b[0m expected an indented block\n"
     ]
    }
   ],
   "source": []
  },
  {
   "cell_type": "markdown",
   "metadata": {},
   "source": [
    "1. Ile unikalnych słów występuje w utworze\n",
    "1. Jakie słowo występuje najczęściej"
   ]
  },
  {
   "cell_type": "code",
   "execution_count": 68,
   "metadata": {},
   "outputs": [
    {
     "name": "stdout",
     "output_type": "stream",
     "text": [
      "[1 2 3]\n"
     ]
    }
   ],
   "source": [
    "import numpy as np\n",
    "n1 = np.array([1,2,3])\n",
    "n2 = np.array([1,2,3],[121,122,123])\n",
    "print(n1)"
   ]
  }
 ],
 "metadata": {
  "kernelspec": {
   "display_name": "Python 3",
   "language": "python",
   "name": "python3"
  },
  "language_info": {
   "codemirror_mode": {
    "name": "ipython",
    "version": 3
   },
   "file_extension": ".py",
   "mimetype": "text/x-python",
   "name": "python",
   "nbconvert_exporter": "python",
   "pygments_lexer": "ipython3",
   "version": "3.6.3"
  }
 },
 "nbformat": 4,
 "nbformat_minor": 2
}
