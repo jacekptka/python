{
 "cells": [
  {
   "cell_type": "code",
   "execution_count": 1,
   "metadata": {},
   "outputs": [
    {
     "name": "stdout",
     "output_type": "stream",
     "text": [
      "1  Sat Nov 24 09:19:45 2018\n",
      "1  Sat Nov 24 09:19:46 2018\n",
      "1  Sat Nov 24 09:19:47 2018\n",
      "1  Sat Nov 24 09:19:48 2018\n",
      "1  Sat Nov 24 09:19:49 2018\n",
      "2  Sat Nov 24 09:19:51 2018\n",
      "2  Sat Nov 24 09:19:53 2018\n",
      "2  Sat Nov 24 09:19:55 2018\n",
      "2  Sat Nov 24 09:19:57 2018\n",
      "2  Sat Nov 24 09:19:59 2018\n",
      "W  Sat Nov 24 09:19:59 2018\n"
     ]
    }
   ],
   "source": [
    "import _thread\n",
    "import time\n",
    "\n",
    "def thread_func(threadName, delay):\n",
    "   count = 0\n",
    "   while count < 5:\n",
    "      time.sleep(delay)\n",
    "      count += 1\n",
    "      print(threadName + \"  \" + time.ctime(time.time()))\n",
    "    \n",
    "thread_func(\"1\", 1)\n",
    "thread_func(\"2\", 2)\n",
    "print(\"W\" + \"  \" + time.ctime(time.time()))"
   ]
  },
  {
   "cell_type": "code",
   "execution_count": 3,
   "metadata": {},
   "outputs": [
    {
     "name": "stdout",
     "output_type": "stream",
     "text": [
      "W  Sat Nov 24 09:21:36 2018\n",
      "1  Sat Nov 24 09:21:37 2018\n",
      "2  Sat Nov 24 09:21:38 2018\n",
      "1  Sat Nov 24 09:21:38 2018\n",
      "1  Sat Nov 24 09:21:39 2018\n",
      "2  Sat Nov 24 09:21:40 2018\n",
      "1  Sat Nov 24 09:21:40 2018\n",
      "1  Sat Nov 24 09:21:41 2018\n",
      "2  Sat Nov 24 09:21:42 2018\n",
      "2  Sat Nov 24 09:21:44 2018\n",
      "2  Sat Nov 24 09:21:46 2018\n"
     ]
    }
   ],
   "source": [
    "t1=_thread.start_new_thread(thread_func, (\"1\", 1))\n",
    "t2=_thread.start_new_thread(thread_func, (\"2\", 2))\n",
    "print(\"W\" + \"  \" + time.ctime(time.time()))"
   ]
  },
  {
   "cell_type": "markdown",
   "metadata": {},
   "source": [
    "## Zadanie\n",
    "\n",
    "1. Utwórz kolekcję liczb losowych\n",
    "1. Znajdź minimalną wartość w kolekcji używając pętli"
   ]
  },
  {
   "cell_type": "code",
   "execution_count": 13,
   "metadata": {},
   "outputs": [],
   "source": [
    "import random\n",
    "mylist = [random.randint(0, 100000000) for k in range(10000000)]"
   ]
  },
  {
   "cell_type": "code",
   "execution_count": 11,
   "metadata": {},
   "outputs": [
    {
     "name": "stdout",
     "output_type": "stream",
     "text": [
      "CPU times: user 4 µs, sys: 0 ns, total: 4 µs\n",
      "Wall time: 8.58 µs\n",
      "0\n"
     ]
    }
   ],
   "source": [
    "%time\n",
    "minv = mylist[0]\n",
    "for i in mylist:\n",
    "    if i < minv:\n",
    "        minv = i\n",
    "print(minv)"
   ]
  },
  {
   "cell_type": "markdown",
   "metadata": {},
   "source": [
    "1. Znajdź minimalną wartość w kolekcji używając metody dziel i zwyciężaj"
   ]
  },
  {
   "cell_type": "code",
   "execution_count": 33,
   "metadata": {},
   "outputs": [
    {
     "name": "stdout",
     "output_type": "stream",
     "text": [
      "61187796\n"
     ]
    }
   ],
   "source": [
    "def find_min(l, lo, hi):\n",
    "    min = l[lo]\n",
    "    return min\n",
    "print(find_min(mylist, 0, 100000))"
   ]
  },
  {
   "cell_type": "markdown",
   "metadata": {},
   "source": [
    "1. Zrównoleglij wykonanie zaimplementowanej metody"
   ]
  },
  {
   "cell_type": "code",
   "execution_count": 29,
   "metadata": {},
   "outputs": [
    {
     "name": "stdout",
     "output_type": "stream",
     "text": [
      "7\n",
      "CPU times: user 709 ms, sys: 997 µs, total: 710 ms\n",
      "Wall time: 709 ms\n"
     ]
    }
   ],
   "source": [
    "%%time\n",
    "\n",
    "def find_min(l, lo, hi):\n",
    "    if hi -lo < 10000:\n",
    "        minv = l[lo]\n",
    "        for i in range (lo, hi):\n",
    "            if l[i] < minv:\n",
    "                    minv = l[i]\n",
    "        return minv\n",
    "    \n",
    "    #if hi -lo < 10000\n",
    "    #find min\n",
    "    #ret min\n",
    "    \n",
    "    min_a = find_min(l,lo,lo + int((hi-lo)/2))\n",
    "    min_b = find_min(l,lo + int((hi-lo)/2), hi)\n",
    "    return min_a if min_a < min_b else min_b\n",
    "\n",
    "    #return mniejszy z min_a, min_b\n",
    "\n",
    "    #min = 100000000\n",
    "    #print(lo,hi)\n",
    "    #return min\n",
    "\n",
    "print(find_min(mylist, 0, 10000000))"
   ]
  }
 ],
 "metadata": {
  "kernelspec": {
   "display_name": "Python 3",
   "language": "python",
   "name": "python3"
  },
  "language_info": {
   "codemirror_mode": {
    "name": "ipython",
    "version": 3
   },
   "file_extension": ".py",
   "mimetype": "text/x-python",
   "name": "python",
   "nbconvert_exporter": "python",
   "pygments_lexer": "ipython3",
   "version": "3.6.3"
  }
 },
 "nbformat": 4,
 "nbformat_minor": 2
}
