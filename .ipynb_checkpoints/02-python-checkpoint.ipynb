{
 "cells": [
  {
   "cell_type": "markdown",
   "metadata": {},
   "source": [
    "# Wprowadzenie do Python"
   ]
  },
  {
   "cell_type": "code",
   "execution_count": null,
   "metadata": {
    "collapsed": true
   },
   "outputs": [],
   "source": [
    "\"\"\"\n",
    "typy podstawowe\n",
    "i\n",
    "deklaracja zmiennych\n",
    "\"\"\"\n",
    "# typy podstawowe i deklaracja zmiennych\n",
    "i = 3  # integer (int)\n",
    "f = 1.1  # float\n",
    "s = 'Hi'  # str (unicode)\n",
    "c = 1+2j  # complex\n",
    "bo = True  # bool\n",
    "o = None  # NoneType"
   ]
  },
  {
   "cell_type": "code",
   "execution_count": null,
   "metadata": {
    "collapsed": true
   },
   "outputs": [],
   "source": [
    "# operatory arytmetyczne\n",
    "# + - * / %\n",
    "# exponentiation **"
   ]
  },
  {
   "cell_type": "code",
   "execution_count": null,
   "metadata": {
    "collapsed": true
   },
   "outputs": [],
   "source": [
    "# operatory relacyjne\n",
    "# == != < <= > >="
   ]
  },
  {
   "cell_type": "code",
   "execution_count": null,
   "metadata": {
    "collapsed": true
   },
   "outputs": [],
   "source": [
    "# operatory logiczne\n",
    "# and or not"
   ]
  },
  {
   "cell_type": "code",
   "execution_count": null,
   "metadata": {
    "collapsed": true
   },
   "outputs": [],
   "source": [
    "# operatory bitowe\n",
    "# & | ^ ~ << >>"
   ]
  },
  {
   "cell_type": "code",
   "execution_count": null,
   "metadata": {
    "collapsed": true
   },
   "outputs": [],
   "source": [
    "# operatory przypisania\n",
    "# = += -= *= /= %= <<= >>= &= ^= |="
   ]
  },
  {
   "cell_type": "code",
   "execution_count": null,
   "metadata": {
    "collapsed": true
   },
   "outputs": [],
   "source": [
    "# instrukcja warunkowa\n",
    "if i == 0:\n",
    "    print('i != 0')\n",
    "print('ddddk')"
   ]
  },
  {
   "cell_type": "code",
   "execution_count": null,
   "metadata": {
    "collapsed": true
   },
   "outputs": [],
   "source": [
    "if i < 0:\n",
    "    print('i less than 0')\n",
    "elif i == 0:\n",
    "    print('i == 0')\n",
    "else:\n",
    "    print('i is positive')"
   ]
  },
  {
   "cell_type": "code",
   "execution_count": null,
   "metadata": {
    "collapsed": true
   },
   "outputs": [],
   "source": [
    "j = 1 if i == 3 else 2\n",
    "print('j = ' + str(j))"
   ]
  },
  {
   "cell_type": "code",
   "execution_count": null,
   "metadata": {
    "collapsed": true
   },
   "outputs": [],
   "source": [
    "# pętle\n",
    "i = 3\n",
    "while i > 0:\n",
    "    print('while i = ' + str(i))\n",
    "    i -= 1"
   ]
  },
  {
   "cell_type": "markdown",
   "metadata": {},
   "source": [
    "Zaimplementuj program drukujący kwadraty liczb od 1 do 10."
   ]
  },
  {
   "cell_type": "code",
   "execution_count": null,
   "metadata": {
    "collapsed": true
   },
   "outputs": [],
   "source": [
    "podstawa=10\n",
    "potega=2\n",
    "while podstawa > 0:\n",
    "        print(podstawa**potega)\n",
    "        podstawa -= 1"
   ]
  },
  {
   "cell_type": "code",
   "execution_count": null,
   "metadata": {
    "collapsed": true
   },
   "outputs": [],
   "source": [
    "i = 5\n",
    "while i > 0:\n",
    "    i -= 1\n",
    "    if i == 4:\n",
    "        continue\n",
    "    print('while continue i = ' + str(i))"
   ]
  },
  {
   "cell_type": "code",
   "execution_count": null,
   "metadata": {
    "collapsed": true
   },
   "outputs": [],
   "source": [
    "i = 3\n",
    "while True:\n",
    "    i -= 1\n",
    "    print('while break i = ' + str(i))\n",
    "    if i == 0:\n",
    "        break"
   ]
  },
  {
   "cell_type": "markdown",
   "metadata": {},
   "source": [
    "Zaimplementuj program:\n",
    "* drukujący tabliczkę mnożenia w zakresie od 1 do 10,\n",
    "* drukujący tabliczkę mnożenia w zakresie od 1 do 10 dla liczb parzystych,\n",
    "* drukujący tabliczkę mnożenia w zakresie od 1 do 10 dla liczb parzystych poza 6."
   ]
  },
  {
   "cell_type": "code",
   "execution_count": 23,
   "metadata": {},
   "outputs": [
    {
     "ename": "KeyboardInterrupt",
     "evalue": "",
     "output_type": "error",
     "traceback": [
      "\u001b[0;31m---------------------------------------------------------------------------\u001b[0m",
      "\u001b[0;31mKeyboardInterrupt\u001b[0m                         Traceback (most recent call last)",
      "\u001b[0;32m<ipython-input-23-75a29b86e000>\u001b[0m in \u001b[0;36m<module>\u001b[0;34m()\u001b[0m\n\u001b[1;32m      1\u001b[0m \u001b[0mi\u001b[0m \u001b[0;34m=\u001b[0m \u001b[0;36m1\u001b[0m\u001b[0;34m\u001b[0m\u001b[0m\n\u001b[1;32m      2\u001b[0m \u001b[0mj\u001b[0m \u001b[0;34m=\u001b[0m \u001b[0;36m1\u001b[0m\u001b[0;34m\u001b[0m\u001b[0m\n\u001b[0;32m----> 3\u001b[0;31m \u001b[0;32mwhile\u001b[0m \u001b[0mi\u001b[0m \u001b[0;34m<=\u001b[0m \u001b[0;36m10\u001b[0m\u001b[0;34m:\u001b[0m\u001b[0;34m\u001b[0m\u001b[0m\n\u001b[0m\u001b[1;32m      4\u001b[0m     \u001b[0;32mif\u001b[0m \u001b[0;32mnot\u001b[0m \u001b[0mi\u001b[0m\u001b[0;34m%\u001b[0m\u001b[0;36m2\u001b[0m\u001b[0;34m==\u001b[0m\u001b[0;36m0\u001b[0m \u001b[0;32mor\u001b[0m \u001b[0mi\u001b[0m\u001b[0;34m==\u001b[0m\u001b[0;36m6\u001b[0m\u001b[0;34m:\u001b[0m\u001b[0;34m\u001b[0m\u001b[0m\n\u001b[1;32m      5\u001b[0m         \u001b[0;32mcontinue\u001b[0m\u001b[0;34m\u001b[0m\u001b[0m\n",
      "\u001b[0;31mKeyboardInterrupt\u001b[0m: "
     ]
    }
   ],
   "source": [
    "i = 1\n",
    "j = 1\n",
    "while i <= 10:\n",
    "    if not i%2==0 or i==6:\n",
    "        continue\n",
    "    while j <=10:\n",
    "        \n",
    "        print(str(i) + ' x ' + str(j) + ' = ' + str(i*j))\n",
    "        j += 1\n",
    "    j = 1\n",
    "    i += 1\n",
    "\n",
    "\n",
    "    "
   ]
  },
  {
   "cell_type": "code",
   "execution_count": 27,
   "metadata": {
    "scrolled": true
   },
   "outputs": [
    {
     "name": "stdout",
     "output_type": "stream",
     "text": [
      "Tekst   \n",
      "tekst   \n",
      "TEKST   \n",
      "2\n",
      "b'tekst   '\n",
      "True\n",
      "False\n",
      "2\n",
      "8 5\n",
      "False\n",
      "False\n",
      "True\n",
      "False\n",
      "False\n",
      "1tekst   2tekst   3\n"
     ]
    },
    {
     "data": {
      "text/plain": [
       "'1, 2, 3'"
      ]
     },
     "execution_count": 27,
     "metadata": {},
     "output_type": "execute_result"
    }
   ],
   "source": [
    "# operacje na tekście\n",
    "t = \"tekst   \"\n",
    "print(t.capitalize())\n",
    "print(t.lower())\n",
    "print(t.upper())\n",
    "print(t.count(\"t\"))\n",
    "print(t.encode('utf-8'))\n",
    "print(t.startswith('t'))\n",
    "print(t.endswith('t'))\n",
    "print(t.find('k'))\n",
    "print(len(t), len(t.strip()))\n",
    "print(t.isalnum())\n",
    "print(t.isdigit())\n",
    "print(t.islower())\n",
    "print(t.isspace())\n",
    "print(t.isupper())\n",
    "print(t.join(['1','2','3']))\n",
    "', '.join(['1','2','3'])"
   ]
  },
  {
   "cell_type": "code",
   "execution_count": 100,
   "metadata": {},
   "outputs": [
    {
     "name": "stdout",
     "output_type": "stream",
     "text": [
      "H\n"
     ]
    }
   ],
   "source": [
    "# sekwencje\n",
    "h = \"World\"\n",
    "w = \"Hello\"\n",
    "h, w = w, h # zamiana zmiennych\n",
    "hello = h + \" \" + w + \"!\"\n",
    "\n",
    "print(hello[int(2/3)])\n",
    "#print(hello[0:])\n",
    "#print(hello[0:2])\n",
    "#print(hello[6::2])\n",
    "#print(hello[:2])\n",
    "#print(hello[-2*2:-1])"
   ]
  },
  {
   "cell_type": "code",
   "execution_count": null,
   "metadata": {
    "collapsed": true
   },
   "outputs": [],
   "source": [
    "for i in hello:\n",
    "    print(i)"
   ]
  },
  {
   "cell_type": "code",
   "execution_count": 88,
   "metadata": {},
   "outputs": [
    {
     "name": "stdout",
     "output_type": "stream",
     "text": [
      "0\n",
      "1\n",
      "2\n",
      "<class 'int'>\n",
      "<class 'float'>\n"
     ]
    }
   ],
   "source": [
    "for i in range(3):\n",
    "    print(i)\n",
    "    j += i\n",
    "print(type(j))\n",
    "\n",
    "y=2/2\n",
    "print(type(y))\n",
    "\n",
    "#print(type(y))"
   ]
  },
  {
   "cell_type": "markdown",
   "metadata": {},
   "source": [
    "Wydrukuj liczby nieparzyste w zakresie od 0 do 100 podzielne przez 3 ale nie przez 15."
   ]
  },
  {
   "cell_type": "code",
   "execution_count": 98,
   "metadata": {},
   "outputs": [
    {
     "name": "stdout",
     "output_type": "stream",
     "text": [
      "6\n",
      "12\n",
      "18\n",
      "24\n",
      "36\n",
      "42\n",
      "48\n",
      "54\n",
      "66\n",
      "72\n",
      "78\n",
      "84\n",
      "96\n",
      "ilosc iteracji 33 13\n",
      "3\n",
      "9\n",
      "21\n",
      "27\n",
      "33\n",
      "39\n",
      "51\n",
      "57\n",
      "63\n",
      "69\n",
      "81\n",
      "87\n",
      "93\n",
      "99\n",
      "ilosc iteracji 50 14\n"
     ]
    }
   ],
   "source": [
    "z=0\n",
    "x=0\n",
    "for i in range(3, 101, 3):\n",
    "    x += 1\n",
    "    if i%15!=0 and i%2==0:\n",
    "        z += 1\n",
    "        print(i)\n",
    "print(\"ilosc iteracji\",x,z)\n",
    "\n",
    "\n",
    "z=0\n",
    "x=0\n",
    "for i in range(1, 101, 2):\n",
    "    x += 1\n",
    "    if i%3==0 and not i%15==0:\n",
    "        z += 1\n",
    "        print(i)\n",
    "print(\"ilosc iteracji\",x,z)"
   ]
  },
  {
   "cell_type": "code",
   "execution_count": 80,
   "metadata": {},
   "outputs": [
    {
     "name": "stdout",
     "output_type": "stream",
     "text": [
      "1 x 1 = 1\n",
      "1 x 2 = 2\n",
      "1 x 3 = 3\n",
      "1 x 4 = 4\n",
      "1 x 5 = 5\n",
      "1 x 6 = 6\n",
      "1 x 7 = 7\n",
      "1 x 8 = 8\n",
      "1 x 9 = 9\n",
      "1 x 10 = 10\n",
      "2 x 1 = 2\n",
      "2 x 2 = 4\n",
      "2 x 3 = 6\n",
      "2 x 4 = 8\n",
      "2 x 5 = 10\n",
      "2 x 6 = 12\n",
      "2 x 7 = 14\n",
      "2 x 8 = 16\n",
      "2 x 9 = 18\n",
      "2 x 10 = 20\n",
      "3 x 1 = 3\n",
      "3 x 2 = 6\n",
      "3 x 3 = 9\n",
      "3 x 4 = 12\n",
      "3 x 5 = 15\n",
      "3 x 6 = 18\n",
      "3 x 7 = 21\n",
      "3 x 8 = 24\n",
      "3 x 9 = 27\n",
      "3 x 10 = 30\n",
      "4 x 1 = 4\n",
      "4 x 2 = 8\n",
      "4 x 3 = 12\n",
      "4 x 4 = 16\n",
      "4 x 5 = 20\n",
      "4 x 6 = 24\n",
      "4 x 7 = 28\n",
      "4 x 8 = 32\n",
      "4 x 9 = 36\n",
      "4 x 10 = 40\n",
      "5 x 1 = 5\n",
      "5 x 2 = 10\n",
      "5 x 3 = 15\n",
      "5 x 4 = 20\n",
      "5 x 5 = 25\n",
      "5 x 6 = 30\n",
      "5 x 7 = 35\n",
      "5 x 8 = 40\n",
      "5 x 9 = 45\n",
      "5 x 10 = 50\n",
      "6 x 1 = 6\n",
      "6 x 2 = 12\n",
      "6 x 3 = 18\n",
      "6 x 4 = 24\n",
      "6 x 5 = 30\n",
      "6 x 6 = 36\n",
      "6 x 7 = 42\n",
      "6 x 8 = 48\n",
      "6 x 9 = 54\n",
      "6 x 10 = 60\n",
      "7 x 1 = 7\n",
      "7 x 2 = 14\n",
      "7 x 3 = 21\n",
      "7 x 4 = 28\n",
      "7 x 5 = 35\n",
      "7 x 6 = 42\n",
      "7 x 7 = 49\n",
      "7 x 8 = 56\n",
      "7 x 9 = 63\n",
      "7 x 10 = 70\n",
      "8 x 1 = 8\n",
      "8 x 2 = 16\n",
      "8 x 3 = 24\n",
      "8 x 4 = 32\n",
      "8 x 5 = 40\n",
      "8 x 6 = 48\n",
      "8 x 7 = 56\n",
      "8 x 8 = 64\n",
      "8 x 9 = 72\n",
      "8 x 10 = 80\n",
      "9 x 1 = 9\n",
      "9 x 2 = 18\n",
      "9 x 3 = 27\n",
      "9 x 4 = 36\n",
      "9 x 5 = 45\n",
      "9 x 6 = 54\n",
      "9 x 7 = 63\n",
      "9 x 8 = 72\n",
      "9 x 9 = 81\n",
      "9 x 10 = 90\n",
      "10 x 1 = 10\n",
      "10 x 2 = 20\n",
      "10 x 3 = 30\n",
      "10 x 4 = 40\n",
      "10 x 5 = 50\n",
      "10 x 6 = 60\n",
      "10 x 7 = 70\n",
      "10 x 8 = 80\n",
      "10 x 9 = 90\n",
      "10 x 10 = 100\n"
     ]
    }
   ],
   "source": [
    "for x in range(1,11):\n",
    "    for y in range(1,11):\n",
    "        print (x,\"x\",y,\"=\",x*y)"
   ]
  },
  {
   "cell_type": "code",
   "execution_count": null,
   "metadata": {
    "collapsed": true
   },
   "outputs": [],
   "source": []
  },
  {
   "cell_type": "code",
   "execution_count": 101,
   "metadata": {},
   "outputs": [
    {
     "name": "stdout",
     "output_type": "stream",
     "text": [
      "tuple 1\n",
      "tuple 3\n",
      "tuple text\n",
      "tuple [6, 5]\n",
      "tuple 1.2\n"
     ]
    }
   ],
   "source": [
    "# krotka\n",
    "t = (1, 3, 'text', [6, 5], 1.2)\n",
    "for i in t:\n",
    "    print(\"tuple \" + str(i))"
   ]
  },
  {
   "cell_type": "code",
   "execution_count": 116,
   "metadata": {},
   "outputs": [
    {
     "name": "stdout",
     "output_type": "stream",
     "text": [
      "<built-in method count of list object at 0x7fd77084d3c8>\n",
      "[1, 3, 'text', [6, 5]]\n",
      "list 1\n",
      "list 3\n",
      "list text\n",
      "list [6, 5]\n",
      "list 5\n"
     ]
    }
   ],
   "source": [
    "# lista\n",
    "l = [1, 3, 'text', [6, 5], 1.2]\n",
    "l.remove(1.2)\n",
    "print(l.count)\n",
    "print(l)\n",
    "l.append(5)\n",
    "for i in l:\n",
    "    print(\"list \" + str(i))"
   ]
  },
  {
   "cell_type": "code",
   "execution_count": 119,
   "metadata": {},
   "outputs": [
    {
     "name": "stdout",
     "output_type": "stream",
     "text": [
      "set 1.2\n",
      "set 3\n",
      "set 5\n",
      "set text\n"
     ]
    }
   ],
   "source": [
    "# zbiór\n",
    "s = {1, 3, 'text', 1.2}\n",
    "s.remove(1)\n",
    "s.add(5)\n",
    "s.add(5)\n",
    "for i in s:\n",
    "    print(\"set \" + str(i))"
   ]
  },
  {
   "cell_type": "code",
   "execution_count": 121,
   "metadata": {},
   "outputs": [
    {
     "name": "stdout",
     "output_type": "stream",
     "text": [
      "{'name': 'John', 'surname': 'Smith'}\n",
      "{'name': 'John', 'surname': 'Smith', 'age': 30, 'animal': 'Dog'}\n",
      "John age: 30\n"
     ]
    }
   ],
   "source": [
    "# słownik\n",
    "person = {'name': 'John', 'surname': 'Smith'}\n",
    "print(person)\n",
    "person['age'] = 30\n",
    "person['animal'] = 'Dog'\n",
    "print(person)\n",
    "if 'age' in person:\n",
    "    print('{} age: {}'.format(person['name'], person['age']))"
   ]
  },
  {
   "cell_type": "code",
   "execution_count": 127,
   "metadata": {},
   "outputs": [
    {
     "name": "stdout",
     "output_type": "stream",
     "text": [
      "sub\n",
      "1\n",
      "sub\n",
      "-10\n",
      "sub\n",
      "0\n",
      "sub\n",
      "9\n"
     ]
    }
   ],
   "source": [
    "def sub(a=10, b=1):\n",
    "    # function sample\n",
    "    print(\"sub\")\n",
    "    return a - b\n",
    "\n",
    "\n",
    "# function call\n",
    "print(sub(2, 1))\n",
    "print(sub(b=30, a=20))\n",
    "print(sub(1))\n",
    "print(sub())"
   ]
  }
 ],
 "metadata": {
  "kernelspec": {
   "display_name": "Python 3",
   "language": "python",
   "name": "python3"
  },
  "language_info": {
   "codemirror_mode": {
    "name": "ipython",
    "version": 3
   },
   "file_extension": ".py",
   "mimetype": "text/x-python",
   "name": "python",
   "nbconvert_exporter": "python",
   "pygments_lexer": "ipython3",
   "version": "3.6.3"
  }
 },
 "nbformat": 4,
 "nbformat_minor": 2
}
