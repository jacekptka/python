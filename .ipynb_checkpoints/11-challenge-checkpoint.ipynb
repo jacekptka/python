{
 "cells": [
  {
   "cell_type": "markdown",
   "metadata": {},
   "source": [
    "# Co dalej?\n",
    "\n",
    "## Zadanie\n",
    "\n",
    "Jakie słowo występuje najczęściej?"
   ]
  },
  {
   "cell_type": "code",
   "execution_count": 2,
   "metadata": {},
   "outputs": [
    {
     "data": {
      "text/plain": [
       "[('the', 1818),\n",
       " ('and', 940),\n",
       " ('to', 809),\n",
       " ('a', 690),\n",
       " ('of', 631),\n",
       " ('it', 610),\n",
       " ('she', 553),\n",
       " ('i', 543),\n",
       " ('you', 481),\n",
       " ('said', 462)]"
      ]
     },
     "execution_count": 2,
     "metadata": {},
     "output_type": "execute_result"
    }
   ],
   "source": [
    "import re, urllib.request\n",
    "from collections import Counter\n",
    "response = urllib.request.urlopen('http://www.gutenberg.org/files/11/11.txt')\n",
    "data = response.read()\n",
    "text = data.decode('utf-8')\n",
    "words = re.findall(r'\\w+', text.lower())\n",
    "Counter(words).most_common(10)"
   ]
  },
  {
   "cell_type": "code",
   "execution_count": 3,
   "metadata": {},
   "outputs": [
    {
     "name": "stdout",
     "output_type": "stream",
     "text": [
      "th\n"
     ]
    }
   ],
   "source": [
    "print('python'[2:-2])"
   ]
  }
 ],
 "metadata": {
  "kernelspec": {
   "display_name": "Python 3",
   "language": "python",
   "name": "python3"
  },
  "language_info": {
   "codemirror_mode": {
    "name": "ipython",
    "version": 3
   },
   "file_extension": ".py",
   "mimetype": "text/x-python",
   "name": "python",
   "nbconvert_exporter": "python",
   "pygments_lexer": "ipython3",
   "version": "3.6.3"
  }
 },
 "nbformat": 4,
 "nbformat_minor": 2
}
