{
 "cells": [
  {
   "cell_type": "markdown",
   "metadata": {},
   "source": [
    "# Wprowadzenie do Python (część 2)"
   ]
  },
  {
   "cell_type": "markdown",
   "metadata": {},
   "source": [
    "## Wyjątki\n",
    "\n",
    "Wyjątki to błędy, które mogą pojawić się podczas wykonania programu. Po wystąpieniu wyjątku program jest przerywany i wznawiany w miejscu, w którym przewidziano obsługę błędu."
   ]
  },
  {
   "cell_type": "code",
   "execution_count": 1,
   "metadata": {
    "collapsed": true
   },
   "outputs": [],
   "source": [
    "def divide(x, y):\n",
    "    try:\n",
    "        result = x / y\n",
    "        print(\"divided\")\n",
    "    except ZeroDivisionError:\n",
    "        print(\"zero\")\n",
    "    else:\n",
    "        print(\"result = \", result)\n",
    "    finally:\n",
    "        print(\"good bye\")"
   ]
  },
  {
   "cell_type": "code",
   "execution_count": 2,
   "metadata": {},
   "outputs": [
    {
     "name": "stdout",
     "output_type": "stream",
     "text": [
      "divided\n",
      "result =  0.5\n",
      "good bye\n"
     ]
    }
   ],
   "source": [
    "divide(1, 2)"
   ]
  },
  {
   "cell_type": "code",
   "execution_count": 3,
   "metadata": {},
   "outputs": [
    {
     "name": "stdout",
     "output_type": "stream",
     "text": [
      "zero\n",
      "good bye\n"
     ]
    }
   ],
   "source": [
    "divide(1, 0)"
   ]
  },
  {
   "cell_type": "markdown",
   "metadata": {},
   "source": [
    "### Zadanie\n",
    "\n",
    "Zmodyfikuj funkcję divide, aby obsłużyć nowy wyjątek."
   ]
  },
  {
   "cell_type": "code",
   "execution_count": 6,
   "metadata": {},
   "outputs": [
    {
     "name": "stdout",
     "output_type": "stream",
     "text": [
      "not int\n",
      "good bye\n",
      "divided\n",
      "result =  2.0\n",
      "good bye\n"
     ]
    }
   ],
   "source": [
    "def divide(x, y):\n",
    "    try:\n",
    "        result = x / y\n",
    "        print(\"divided\")\n",
    "    except TypeError:\n",
    "        print(\"not int\")\n",
    "    else:\n",
    "        print(\"result = \", result)\n",
    "    finally:\n",
    "        print(\"good bye\")\n",
    "\n",
    "divide('a', 1)\n",
    "divide(2, 1)"
   ]
  },
  {
   "cell_type": "markdown",
   "metadata": {},
   "source": [
    "## Klasy\n",
    "\n",
    "Python umożliwia programowanie obiektowe. Możliwe jest dziedziczenie. Wszystkie składowe klasy są publiczne, a funkcje podlegają wirtualizacji."
   ]
  },
  {
   "cell_type": "code",
   "execution_count": 53,
   "metadata": {
    "collapsed": true
   },
   "outputs": [],
   "source": [
    "class Calculator():\n",
    "    static_value = 1\n",
    "\n",
    "    def __init__(self, base_value, nic):\n",
    "        self.class_value = base_value\n",
    "        self.cos = 100\n",
    "        self.nic = 0\n",
    "        \n",
    "    def sum(self, value, nic):\n",
    "        return self.static_value + self.class_value + value + self.cos + nic + self.nic"
   ]
  },
  {
   "cell_type": "code",
   "execution_count": 57,
   "metadata": {},
   "outputs": [
    {
     "name": "stdout",
     "output_type": "stream",
     "text": [
      "1\n",
      "10\n",
      "113\n"
     ]
    }
   ],
   "source": [
    "a = Calculator(10,100)\n",
    "print(Calculator.static_value)\n",
    "print(a.class_value)\n",
    "a.class_value = 10\n",
    "print(a.sum(1,1))"
   ]
  },
  {
   "cell_type": "code",
   "execution_count": 30,
   "metadata": {
    "collapsed": true
   },
   "outputs": [],
   "source": [
    "class SuperCalculator(Calculator):\n",
    "    def __init__(self, base_value):\n",
    "        Calculator.static_value = 10\n",
    "        super().__init__(base_value)\n",
    "        self.class_value += 1\n",
    "\n",
    "    \n",
    "    def sum(self, value):\n",
    "        return self.static_value + self.class_value + value * 2"
   ]
  },
  {
   "cell_type": "code",
   "execution_count": 34,
   "metadata": {},
   "outputs": [
    {
     "name": "stdout",
     "output_type": "stream",
     "text": [
      "10\n",
      "10\n",
      "10\n",
      "2\n",
      "14\n"
     ]
    }
   ],
   "source": [
    "b = SuperCalculator(1)\n",
    "c = SuperCalculator(2)\n",
    "print(SuperCalculator.static_value)\n",
    "print(b.static_value)\n",
    "print(c.static_value)\n",
    "print(b.class_value)\n",
    "print(b.sum(1))"
   ]
  },
  {
   "cell_type": "markdown",
   "metadata": {},
   "source": [
    "### Zadanie\n",
    "\n",
    "Utwórz klasę Person przechowującą imię i nazwisko wraz z metodą drukującą dane osoby w formacie Imię NAZWISKO (bez względu jak zostały wcześniej ustawione). Utwórz obiekt nowej klasy i wywołaj jego metodę. Wskazówka: skorzystaj z `title()` i `upper()`, domyślna metoda zwracająca obiekt w czytelnej formie ma zazwyczaj nazwę `__str__`."
   ]
  },
  {
   "cell_type": "code",
   "execution_count": 90,
   "metadata": {},
   "outputs": [],
   "source": [
    "class Person():\n",
    "    def __int__(self, name_in, surname_in):\n",
    "        self.name = name_in\n",
    "        self.surname = surname_in\n",
    "    def __str__(self):\n",
    "        return self.name.title() + self.surname.upper()"
   ]
  },
  {
   "cell_type": "code",
   "execution_count": 92,
   "metadata": {},
   "outputs": [
    {
     "ename": "TypeError",
     "evalue": "object() takes no parameters",
     "output_type": "error",
     "traceback": [
      "\u001b[0;31m---------------------------------------------------------------------------\u001b[0m",
      "\u001b[0;31mTypeError\u001b[0m                                 Traceback (most recent call last)",
      "\u001b[0;32m<ipython-input-92-e6cb566b39b1>\u001b[0m in \u001b[0;36m<module>\u001b[0;34m()\u001b[0m\n\u001b[0;32m----> 1\u001b[0;31m \u001b[0mp\u001b[0m \u001b[0;34m=\u001b[0m \u001b[0mPerson\u001b[0m\u001b[0;34m(\u001b[0m\u001b[0;34m'jAcek'\u001b[0m\u001b[0;34m,\u001b[0m \u001b[0;34m'placek'\u001b[0m\u001b[0;34m)\u001b[0m\u001b[0;34m\u001b[0m\u001b[0m\n\u001b[0m\u001b[1;32m      2\u001b[0m \u001b[0mprint\u001b[0m\u001b[0;34m(\u001b[0m\u001b[0mp\u001b[0m\u001b[0;34m)\u001b[0m\u001b[0;34m\u001b[0m\u001b[0m\n",
      "\u001b[0;31mTypeError\u001b[0m: object() takes no parameters"
     ]
    }
   ],
   "source": [
    "p = Person('jAcek', 'placek')\n",
    "print(p)"
   ]
  },
  {
   "cell_type": "markdown",
   "metadata": {},
   "source": [
    "## Wyrażenia lambda"
   ]
  },
  {
   "cell_type": "code",
   "execution_count": 96,
   "metadata": {},
   "outputs": [
    {
     "name": "stdout",
     "output_type": "stream",
     "text": [
      "[1, 4, 9, 16, 25]\n"
     ]
    }
   ],
   "source": [
    "items = [1, 2, 3, 4, 5]\n",
    "squared = []\n",
    "for i in items:\n",
    "    squared.append(i**2)\n",
    "print(squared)\n"
   ]
  },
  {
   "cell_type": "code",
   "execution_count": 95,
   "metadata": {},
   "outputs": [
    {
     "name": "stdout",
     "output_type": "stream",
     "text": [
      "[1, 4, 9, 16, 25]\n"
     ]
    }
   ],
   "source": [
    "items = [1, 2, 3, 4, 5]\n",
    "\n",
    "def square(x):\n",
    "    return x**2\n",
    "\n",
    "squared = list(map(square, items))\n",
    "print(squared)"
   ]
  },
  {
   "cell_type": "markdown",
   "metadata": {},
   "source": [
    "Wyrażenia lambda nazywane są inaczej funkcjami anonimowymi."
   ]
  },
  {
   "cell_type": "code",
   "execution_count": 191,
   "metadata": {},
   "outputs": [
    {
     "name": "stdout",
     "output_type": "stream",
     "text": [
      "[1, 4, 9, 16, 25]\n"
     ]
    }
   ],
   "source": [
    "items = [1, 2, 3, 4, 5]\n",
    "square = lambda x: x**2\n",
    "squared = list(map(square, items))\n",
    "print(squared)"
   ]
  },
  {
   "cell_type": "code",
   "execution_count": 194,
   "metadata": {},
   "outputs": [
    {
     "name": "stdout",
     "output_type": "stream",
     "text": [
      "[1, 8, 27, 64, 125]\n"
     ]
    },
    {
     "data": {
      "text/plain": [
       "list"
      ]
     },
     "execution_count": 194,
     "metadata": {},
     "output_type": "execute_result"
    }
   ],
   "source": [
    "items = [1, 2, 3, 4, 5]\n",
    "squared = list(map(lambda x: x**3, items))\n",
    "print(squared)\n",
    "type(squared)"
   ]
  },
  {
   "cell_type": "code",
   "execution_count": 199,
   "metadata": {},
   "outputs": [
    {
     "name": "stdout",
     "output_type": "stream",
     "text": [
      "['PIOTR', 'MARCIN', 'd', 'd', 'd']\n"
     ]
    }
   ],
   "source": [
    "pp = list(map(lambda x: x.upper(), {'Piotr', 'Marcin'}))\n",
    "print(pp + list('ddd'))"
   ]
  },
  {
   "cell_type": "markdown",
   "metadata": {},
   "source": [
    "Funkcja anonimowa może mieć kilka argumentów. Wywołaj funkcję `doIt` w celu wykonania dodawania i mnożenia dwóch liczb wykorzystując wyrażenia lambda."
   ]
  },
  {
   "cell_type": "code",
   "execution_count": 204,
   "metadata": {
    "collapsed": true
   },
   "outputs": [],
   "source": [
    "def doIt(operation, a, b):\n",
    "    print(a)\n",
    "    print(b)\n",
    "    return operation(a, b)"
   ]
  },
  {
   "cell_type": "code",
   "execution_count": 215,
   "metadata": {},
   "outputs": [
    {
     "name": "stdout",
     "output_type": "stream",
     "text": [
      "2\n",
      "2\n",
      "Wynik 4\n",
      "3\n",
      "3\n",
      "Wynik 9\n"
     ]
    }
   ],
   "source": [
    "d = doIt(lambda x, y: x+y, 2, 2)\n",
    "print('Wynik ' + str(d))\n",
    "m = doIt(lambda x, y: x*y, 3, 3)\n",
    "print('Wynik ' + str(m))"
   ]
  },
  {
   "cell_type": "markdown",
   "metadata": {},
   "source": [
    "### Zadanie\n",
    "\n",
    "Utwórz strukturę zawierającą unikalne imiona zaczynające się na 'A'. Skorzystaj z funkcji `filter`, która przyjmuje funkcję zwracającą dla danego argumentu prawdę lub fałsz, w zależności czy argument ten spełnia warunki czy też nie."
   ]
  },
  {
   "cell_type": "code",
   "execution_count": 224,
   "metadata": {},
   "outputs": [
    {
     "name": "stdout",
     "output_type": "stream",
     "text": [
      "{'Aldona', 'Anna', 'Adam', 'Alek', 'Aleksandra'}\n"
     ]
    }
   ],
   "source": [
    "names = ['Katarzyna', 'Aldona', 'Adam', 'Piotr', 'Małgorzata', 'Aleksandra', 'Anna', 'Zofia', 'Anna', 'Rafał', 'Alek', 'Alek']\n",
    "\n",
    "print(set(filter(lambda name: name.startswith(\"A\"), names)))\n"
   ]
  },
  {
   "cell_type": "markdown",
   "metadata": {},
   "source": [
    "### Zadanie\n",
    "\n",
    "Znajdź sumę pierwszych 10 liczb. Skorzystaj z funkcji `reduce`. Wskazówka: funkcja lambda przyjmuje jako argument dotychczas wyznaczoną wartość i kolejny element."
   ]
  },
  {
   "cell_type": "code",
   "execution_count": 245,
   "metadata": {},
   "outputs": [
    {
     "name": "stdout",
     "output_type": "stream",
     "text": [
      "95\n"
     ]
    }
   ],
   "source": [
    "from functools import reduce\n",
    "import random\n",
    "#mylist = [random.randint(1, 100) for k in range(100)]\n",
    "\n",
    "\n",
    "\n",
    "print(reduce((lambda x, y: x + y), range(5,15)))\n",
    "\n",
    "\n",
    "\n"
   ]
  },
  {
   "cell_type": "markdown",
   "metadata": {},
   "source": [
    "## Sortowanie\n",
    "\n",
    "Listy w Pythonie mogą być sortowane w miejscu."
   ]
  },
  {
   "cell_type": "code",
   "execution_count": 270,
   "metadata": {},
   "outputs": [
    {
     "name": "stdout",
     "output_type": "stream",
     "text": [
      "['Adam', 'Aldona', 'Aleksandra', 'Anna', 'Elżbieta', 'Katarzyna', 'Małgorzata', 'Piotr', 'Rafał', 'Zofia']\n",
      "['Zofia', 'Rafał', 'Piotr', 'Małgorzata', 'Katarzyna', 'Elżbieta', 'Anna', 'Aleksandra', 'Aldona', 'Adam']\n",
      "['Małgorzata', 'Aleksandra', 'Katarzyna', 'Elżbieta', 'Aldona', 'Zofia', 'Rafał', 'Piotr', 'Anna', 'Adam']\n",
      "['Anna', 'Adam', 'Zofia', 'Rafał', 'Piotr', 'Aldona', 'Elżbieta', 'Katarzyna', 'Małgorzata', 'Aleksandra']\n",
      "['Adam', 'Anna', 'Piotr', 'Rafał', 'Zofia', 'Aldona', 'Elżbieta', 'Katarzyna', 'Aleksandra', 'Małgorzata']\n"
     ]
    }
   ],
   "source": [
    "names = ['Katarzyna', 'Aldona', 'Adam', 'Piotr', 'Małgorzata', 'Aleksandra', 'Anna', 'Zofia', 'Elżbieta', 'Rafał']\n",
    "names.sort()\n",
    "print(names)\n",
    "names.sort(reverse = True)\n",
    "print(names)\n",
    "names.sort(key = lambda x: len(x),reverse = True)\n",
    "print(names)\n",
    "names.sort(key = lambda x: len(x))\n",
    "print(names)\n",
    "names.sort(key = lambda x: (len(x), x)) # po 2 kluczach\n",
    "print(names)"
   ]
  },
  {
   "cell_type": "markdown",
   "metadata": {},
   "source": [
    "Można również wykorzystać funkcję `sorted`, która zwróci nową strukturę."
   ]
  },
  {
   "cell_type": "code",
   "execution_count": 253,
   "metadata": {},
   "outputs": [
    {
     "name": "stdout",
     "output_type": "stream",
     "text": [
      "['Katarzyna', 'Aldona', 'Adam', 'Piotr', 'Małgorzata', 'Aleksandra', 'Anna', 'Zofia', 'Elżbieta', 'Rafał', '100', '99']\n",
      "['100', '99', 'Adam', 'Aldona', 'Aleksandra', 'Anna', 'Elżbieta', 'Katarzyna', 'Małgorzata', 'Piotr', 'Rafał', 'Zofia']\n",
      "[1, 2, 3, 99, 100]\n"
     ]
    }
   ],
   "source": [
    "names = ['Katarzyna', 'Aldona', 'Adam', 'Piotr', 'Małgorzata', 'Aleksandra', 'Anna', 'Zofia', 'Elżbieta', 'Rafał', '100', '99']\n",
    "numbers = [1, 2, 100, 99, 3]\n",
    "sortedNames = sorted(names)\n",
    "sortedNums = sorted(numbers)\n",
    "print(names)\n",
    "print(sortedNames)\n",
    "print(sortedNums)"
   ]
  },
  {
   "cell_type": "code",
   "execution_count": 254,
   "metadata": {},
   "outputs": [
    {
     "data": {
      "text/plain": [
       "[{'age': 18, 'name': 'Anna'},\n",
       " {'age': 20, 'name': 'Rafał'},\n",
       " {'age': 28, 'name': 'Maja'},\n",
       " {'age': 34, 'name': 'Tomasz'}]"
      ]
     },
     "execution_count": 254,
     "metadata": {},
     "output_type": "execute_result"
    }
   ],
   "source": [
    "#lista slownikow\n",
    "\n",
    "people = [ { 'name': 'Anna', 'age': 18},  { 'name': 'Rafał', 'age': 20},  { 'name': 'Tomasz', 'age': 34}, { 'name': 'Maja', 'age': 28} ]\n",
    "sorted(people, key = lambda x: x['age'])"
   ]
  },
  {
   "cell_type": "markdown",
   "metadata": {},
   "source": [
    "### Zadanie\n",
    "\n",
    "Utwórz listę imion osób w kolejności od najstarszej do najmłodszej. Lista ma zawierać wyłącznie imiona."
   ]
  },
  {
   "cell_type": "code",
   "execution_count": 274,
   "metadata": {},
   "outputs": [
    {
     "data": {
      "text/plain": [
       "['Tomasz', 'Maja', 'Rafał', 'Anna']"
      ]
     },
     "execution_count": 274,
     "metadata": {},
     "output_type": "execute_result"
    }
   ],
   "source": [
    "list(map(lambda x: x['name'], sorted(people, key = lambda x: x['age'], reverse=True)))\n",
    "\n",
    "\n"
   ]
  },
  {
   "cell_type": "markdown",
   "metadata": {},
   "source": [
    "### Zadanie\n",
    "\n",
    "Wykorzystując listę obiektów Car utwórz listę aut od najmniejszego przebiegu do największego."
   ]
  },
  {
   "cell_type": "code",
   "execution_count": 302,
   "metadata": {},
   "outputs": [
    {
     "name": "stdout",
     "output_type": "stream",
     "text": [
      "Tico (10010)\n",
      "Audi (20000)\n",
      "Skoda (54000)\n",
      "Polonez (6700)\n"
     ]
    }
   ],
   "source": [
    "class Car:\n",
    "    def __init__(self, name, mileage):\n",
    "        self.name = name\n",
    "        self.mileage = mileage\n",
    "    def __str__(self):\n",
    "        return self.name + ' (' + str(self.mileage) + ')'\n",
    "    def __lt__(self, inner):\n",
    "        return self.mileage < inner.mileage\n",
    "            \n",
    "    \n",
    "cars = [ Car('Tico', 10010), Car('Audi', 20000), Car('Skoda', 54000), Car('Polonez', 6700)]\n",
    "for c in cars:\n",
    "    print(str(c))"
   ]
  },
  {
   "cell_type": "code",
   "execution_count": 311,
   "metadata": {},
   "outputs": [
    {
     "name": "stdout",
     "output_type": "stream",
     "text": [
      "Polonez (6700)\n",
      "Tico (10010)\n",
      "Audi (20000)\n",
      "Skoda (54000)\n",
      "False\n",
      "True\n",
      "False\n",
      "True\n"
     ]
    }
   ],
   "source": [
    "\n",
    "#carss = sorted(cars, key = lambda car: car.mileage)\n",
    "carss = sorted(cars)\n",
    "for c in carss:\n",
    "    print(str(c))\n",
    "\n",
    "print(cars[0] > cars[1])\n",
    "print(cars[0] < cars[1])\n",
    "print(cars[0] == cars[1])\n",
    "print(cars[0] != cars[1])\n"
   ]
  },
  {
   "cell_type": "markdown",
   "metadata": {},
   "source": [
    "Rozszerz klasę Car o metodę `__lt__(self, inner)` i wykorzystaj `sorted` bez żadnych dodatkowych argumentów."
   ]
  }
 ],
 "metadata": {
  "kernelspec": {
   "display_name": "Python 3",
   "language": "python",
   "name": "python3"
  },
  "language_info": {
   "codemirror_mode": {
    "name": "ipython",
    "version": 3
   },
   "file_extension": ".py",
   "mimetype": "text/x-python",
   "name": "python",
   "nbconvert_exporter": "python",
   "pygments_lexer": "ipython3",
   "version": "3.6.3"
  }
 },
 "nbformat": 4,
 "nbformat_minor": 2
}
